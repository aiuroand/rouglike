{
 "cells": [
  {
   "cell_type": "code",
   "execution_count": null,
   "metadata": {},
   "outputs": [],
   "source": [
    "# Vynucení kontroly souladu s PEP8\n",
    "!pip install flake8 pycodestyle pycodestyle_magic\n",
    "%load_ext pycodestyle_magic\n",
    "%pycodestyle_on"
   ]
  },
  {
   "cell_type": "markdown",
   "metadata": {},
   "source": [
    "# Čísla\n"
   ]
  },
  {
   "cell_type": "markdown",
   "metadata": {},
   "source": [
    "### 1. Vypište všechna čísla mezi 2 a 100, která jsou dělitelná buď 3 nebo 7.\n",
    "\n"
   ]
  },
  {
   "cell_type": "code",
   "execution_count": null,
   "metadata": {
    "tags": [
     "solution"
    ]
   },
   "outputs": [
    {
     "name": "stdout",
     "output_type": "stream",
     "text": [
      "3\n",
      "6\n",
      "7\n",
      "9\n",
      "12\n",
      "14\n",
      "15\n",
      "18\n",
      "21\n",
      "24\n",
      "27\n",
      "28\n",
      "30\n",
      "33\n",
      "35\n",
      "36\n",
      "39\n",
      "42\n",
      "45\n",
      "48\n",
      "49\n",
      "51\n",
      "54\n",
      "56\n",
      "57\n",
      "60\n",
      "63\n",
      "66\n",
      "69\n",
      "70\n",
      "72\n",
      "75\n",
      "77\n",
      "78\n",
      "81\n",
      "84\n",
      "87\n",
      "90\n",
      "91\n",
      "93\n",
      "96\n",
      "98\n",
      "99\n"
     ]
    }
   ],
   "source": [
    "for i in range ( 2, 101 ):\n",
    "    if ( i % 3 == 0 or i % 7 == 0 ):\n",
    "        print(i)"
   ]
  },
  {
   "cell_type": "markdown",
   "metadata": {},
   "source": [
    "### 2. Upravte předchozí program, aby vypisoval čísla, která jsou dělitelná 3 nebo 7, ale ne oběma najednou."
   ]
  },
  {
   "cell_type": "code",
   "execution_count": null,
   "metadata": {
    "tags": [
     "solution"
    ]
   },
   "outputs": [
    {
     "name": "stdout",
     "output_type": "stream",
     "text": [
      "3\n",
      "6\n",
      "7\n",
      "9\n",
      "12\n",
      "14\n",
      "15\n",
      "18\n",
      "24\n",
      "27\n",
      "28\n",
      "30\n",
      "33\n",
      "35\n",
      "36\n",
      "39\n",
      "45\n",
      "48\n",
      "49\n",
      "51\n",
      "54\n",
      "56\n",
      "57\n",
      "60\n",
      "66\n",
      "69\n",
      "70\n",
      "72\n",
      "75\n",
      "77\n",
      "78\n",
      "81\n",
      "87\n",
      "90\n",
      "91\n",
      "93\n",
      "96\n",
      "98\n",
      "99\n"
     ]
    }
   ],
   "source": [
    "for i in range ( 2, 101 ):\n",
    "    if ( ( i % 3 == 0 and i % 7 != 0 ) or ( i % 7 == 0 and i % 3 != 0 ) ):\n",
    "        print(i)"
   ]
  },
  {
   "cell_type": "markdown",
   "metadata": {},
   "source": [
    "### 3. Vypište všechna prvočísla mezi 2 a 100. (Použijte lepší algoritmus, než je ve slajdech :)"
   ]
  },
  {
   "cell_type": "code",
   "execution_count": null,
   "metadata": {
    "tags": [
     "solution"
    ]
   },
   "outputs": [
    {
     "name": "stdout",
     "output_type": "stream",
     "text": [
      "2: 1\n",
      "3: 1\n",
      "5: 1\n",
      "7: 1\n",
      "11: 1\n",
      "13: 1\n",
      "17: 1\n",
      "19: 1\n",
      "23: 1\n",
      "29: 1\n",
      "31: 1\n",
      "37: 1\n",
      "41: 1\n",
      "43: 1\n",
      "47: 1\n",
      "53: 1\n",
      "59: 1\n",
      "61: 1\n",
      "67: 1\n",
      "71: 1\n",
      "73: 1\n",
      "79: 1\n",
      "83: 1\n",
      "89: 1\n",
      "97: 1\n"
     ]
    }
   ],
   "source": [
    "a = []\n",
    "for i in range ( 0, 101 ):\n",
    "    a . append ( 1 )\n",
    "a[0] = 0\n",
    "a[1] = 0\n",
    "\n",
    "for i in range ( 0, 101 ):\n",
    "    if ( a[i] == 1 ):\n",
    "        k = 2\n",
    "        while ( k * i < 101 ):\n",
    "            a[k*i] = 0\n",
    "            k+=1\n",
    "            \n",
    "for i in range ( 0, 101 ):\n",
    "    if a[i]:\n",
    "        print( i,\": \", a[i], sep=\"\" )\n"
   ]
  },
  {
   "cell_type": "markdown",
   "metadata": {},
   "source": [
    "### 4. „Implementujte“ umocňování celočíselným exponentem, tj. předpokládejte, že nemáte k dispozici operaci umocňování \\*\\*, ale pouze základní matematické operace +-*/. Zkuste to vyřešit na méně než (n-1) násobení."
   ]
  },
  {
   "cell_type": "code",
   "execution_count": 254,
   "metadata": {
    "tags": [
     "solution"
    ]
   },
   "outputs": [
    {
     "name": "stdout",
     "output_type": "stream",
     "text": [
      "140625001\n",
      "140625001\n"
     ]
    }
   ],
   "source": [
    "def pow1( a, b ):\n",
    "    fin = 1\n",
    "    while ( b > 0 ):\n",
    "        fin *= a\n",
    "        b -= 1    \n",
    "    return fin % 1000000007\n",
    "\n",
    "def pow2( a, b ):\n",
    "    fin = 1\n",
    "    while ( b > 0 ):\n",
    "        if ( b % 2 == 1 ):\n",
    "            fin = ( fin * a )\n",
    "        b = b >> 1\n",
    "        a *= a\n",
    "    return fin % 1000000007\n",
    "\n",
    "print(pow2(2,1000000000))\n",
    "print(2**    1000000000 % 1000000007)\n",
    "print(pow1(2,1000000000))\n"
   ]
  },
  {
   "cell_type": "markdown",
   "metadata": {},
   "source": [
    "### 5. Spočítejte faktoriál daného čísla."
   ]
  },
  {
   "cell_type": "code",
   "execution_count": 2,
   "metadata": {
    "tags": [
     "solution"
    ]
   },
   "outputs": [
    {
     "name": "stdout",
     "output_type": "stream",
     "text": [
      "1\n",
      "2\n",
      "6\n",
      "24\n",
      "120\n",
      "720\n"
     ]
    }
   ],
   "source": [
    "def factorial(n):\n",
    "    if ( n == 1 ):\n",
    "        return n\n",
    "    return factorial( n - 1 ) * n\n",
    "\n",
    "print(factorial(1))\n",
    "print(factorial(2))\n",
    "print(factorial(3))\n",
    "print(factorial(4))\n",
    "print(factorial(5))\n",
    "print(factorial(6))"
   ]
  },
  {
   "cell_type": "markdown",
   "metadata": {},
   "source": [
    "### 6.  Vypište daný počet členů Fibonacciho posloupnosti, tj. řady 1, 1, 2, 3, 5, 8..."
   ]
  },
  {
   "cell_type": "markdown",
   "metadata": {},
   "source": []
  },
  {
   "cell_type": "code",
   "execution_count": 2,
   "metadata": {
    "tags": [
     "solution"
    ]
   },
   "outputs": [],
   "source": [
    "def fibb ( x: int = 0 ) -> int:\n",
    "    prev = 0\n",
    "    curr = 1\n",
    "    for i in range (0,x):\n",
    "        prev, curr = curr, curr + prev\n",
    "    return curr\n",
    "\n",
    "assert(fibb(0)==1)\n",
    "assert(fibb(1)==1)\n",
    "assert(fibb(2)==2)\n",
    "assert(fibb(3)==3)\n",
    "assert(fibb(4)==5)\n",
    "assert(fibb(5)==8)\n",
    "assert(fibb(6)==13)\n",
    "assert(fibb(7)==21)"
   ]
  },
  {
   "cell_type": "markdown",
   "metadata": {},
   "source": [
    "### 7. Vyřešte iterací rovnici x<sup>3</sup> - x - 1 = 0 s rozumnou přesností."
   ]
  },
  {
   "cell_type": "code",
   "execution_count": 2,
   "metadata": {
    "tags": [
     "solution"
    ]
   },
   "outputs": [
    {
     "ename": "KeyboardInterrupt",
     "evalue": "",
     "output_type": "error",
     "traceback": [
      "\u001b[0;31m---------------------------------------------------------------------------\u001b[0m",
      "\u001b[0;31mKeyboardInterrupt\u001b[0m                         Traceback (most recent call last)",
      "\u001b[1;32m/home/aiuroand/2nd/PYT/aiuroand/tutorial02/tutorial02-numbers.ipynb Cell 17\u001b[0m line \u001b[0;36m2\n\u001b[1;32m     <a href='vscode-notebook-cell://wsl%2Bubuntu-22.04/home/aiuroand/2nd/PYT/aiuroand/tutorial02/tutorial02-numbers.ipynb#X22sdnNjb2RlLXJlbW90ZQ%3D%3D?line=17'>18</a>\u001b[0m             left \u001b[39m=\u001b[39m res\n\u001b[1;32m     <a href='vscode-notebook-cell://wsl%2Bubuntu-22.04/home/aiuroand/2nd/PYT/aiuroand/tutorial02/tutorial02-numbers.ipynb#X22sdnNjb2RlLXJlbW90ZQ%3D%3D?line=18'>19</a>\u001b[0m     \u001b[39mreturn\u001b[39;00m res\n\u001b[0;32m---> <a href='vscode-notebook-cell://wsl%2Bubuntu-22.04/home/aiuroand/2nd/PYT/aiuroand/tutorial02/tutorial02-numbers.ipynb#X22sdnNjb2RlLXJlbW90ZQ%3D%3D?line=20'>21</a>\u001b[0m \u001b[39mprint\u001b[39m(spl(f))\n\u001b[1;32m     <a href='vscode-notebook-cell://wsl%2Bubuntu-22.04/home/aiuroand/2nd/PYT/aiuroand/tutorial02/tutorial02-numbers.ipynb#X22sdnNjb2RlLXJlbW90ZQ%3D%3D?line=21'>22</a>\u001b[0m \u001b[39mprint\u001b[39m\n",
      "\u001b[1;32m/home/aiuroand/2nd/PYT/aiuroand/tutorial02/tutorial02-numbers.ipynb Cell 17\u001b[0m line \u001b[0;36m1\n\u001b[1;32m      <a href='vscode-notebook-cell://wsl%2Bubuntu-22.04/home/aiuroand/2nd/PYT/aiuroand/tutorial02/tutorial02-numbers.ipynb#X22sdnNjb2RlLXJlbW90ZQ%3D%3D?line=7'>8</a>\u001b[0m right \u001b[39m=\u001b[39m \u001b[39m100\u001b[39m\n\u001b[1;32m      <a href='vscode-notebook-cell://wsl%2Bubuntu-22.04/home/aiuroand/2nd/PYT/aiuroand/tutorial02/tutorial02-numbers.ipynb#X22sdnNjb2RlLXJlbW90ZQ%3D%3D?line=8'>9</a>\u001b[0m res \u001b[39m=\u001b[39m left \u001b[39m+\u001b[39m ( right \u001b[39m-\u001b[39m left  ) \u001b[39m/\u001b[39m \u001b[39m2\u001b[39m\n\u001b[0;32m---> <a href='vscode-notebook-cell://wsl%2Bubuntu-22.04/home/aiuroand/2nd/PYT/aiuroand/tutorial02/tutorial02-numbers.ipynb#X22sdnNjb2RlLXJlbW90ZQ%3D%3D?line=10'>11</a>\u001b[0m \u001b[39mwhile\u001b[39;00m right \u001b[39m-\u001b[39m left \u001b[39m>\u001b[39m eps:\n\u001b[1;32m     <a href='vscode-notebook-cell://wsl%2Bubuntu-22.04/home/aiuroand/2nd/PYT/aiuroand/tutorial02/tutorial02-numbers.ipynb#X22sdnNjb2RlLXJlbW90ZQ%3D%3D?line=11'>12</a>\u001b[0m     res \u001b[39m=\u001b[39m left \u001b[39m+\u001b[39m ( right \u001b[39m-\u001b[39m left  ) \u001b[39m/\u001b[39m \u001b[39m2\u001b[39m\n\u001b[1;32m     <a href='vscode-notebook-cell://wsl%2Bubuntu-22.04/home/aiuroand/2nd/PYT/aiuroand/tutorial02/tutorial02-numbers.ipynb#X22sdnNjb2RlLXJlbW90ZQ%3D%3D?line=12'>13</a>\u001b[0m     \u001b[39mif\u001b[39;00m ( f(res) \u001b[39m==\u001b[39m \u001b[39m0\u001b[39m ):\n",
      "\u001b[0;31mKeyboardInterrupt\u001b[0m: "
     ]
    }
   ],
   "source": [
    "def f(x):\n",
    "    return x**3 - x - 1\n",
    "\n",
    "def spl(f):\n",
    "    \n",
    "    eps = 1e-100\n",
    "    left = -100\n",
    "    right = 100\n",
    "    res = left + ( right - left  ) / 2\n",
    "    \n",
    "    while right - left > eps:\n",
    "        res = left + ( right - left  ) / 2\n",
    "        if ( f(res) == 0 ):\n",
    "            return res\n",
    "        if f(res) * f(left) < 0:\n",
    "            right = res\n",
    "        else:\n",
    "            left = res\n",
    "    return res\n",
    " \n",
    "print(spl(f))\n",
    "print"
   ]
  },
  {
   "cell_type": "markdown",
   "metadata": {},
   "source": [
    "### 8. Vstupní řetězec jedniček a nul představující číslo ve dvojkové soustavě převeďte na číslo v soustavě desítkové.\n",
    "\n",
    "**HINT**: Jde to buď pomocí vhodného výpočtu nebo si stačí projít seznam vestavěných funkcí."
   ]
  },
  {
   "cell_type": "code",
   "execution_count": 14,
   "metadata": {
    "tags": [
     "solution"
    ]
   },
   "outputs": [
    {
     "name": "stdout",
     "output_type": "stream",
     "text": [
      "1\n",
      "2\n",
      "3\n",
      "2\n",
      "1\n",
      "4\n"
     ]
    }
   ],
   "source": [
    "a = input()\n",
    "\n",
    "for i in a:\n",
    "    print (i)"
   ]
  },
  {
   "cell_type": "code",
   "execution_count": null,
   "metadata": {
    "tags": [
     "solution"
    ]
   },
   "outputs": [],
   "source": [
    "# TODO: Implement your solution."
   ]
  },
  {
   "cell_type": "markdown",
   "metadata": {},
   "source": [
    "### 9. Doplňte předchozí skript o ověření, že vstupní řetězec je opravdu zápis čísla ve dvojkové soustavě."
   ]
  },
  {
   "cell_type": "code",
   "execution_count": null,
   "metadata": {
    "tags": [
     "solution"
    ]
   },
   "outputs": [],
   "source": [
    "# TODO: Implement your solution."
   ]
  },
  {
   "cell_type": "code",
   "execution_count": null,
   "metadata": {
    "tags": [
     "solution"
    ]
   },
   "outputs": [],
   "source": [
    "# TODO: Implement your solution."
   ]
  },
  {
   "cell_type": "markdown",
   "metadata": {},
   "source": [
    "### 10. Napište opačnou funkci – vstupní číslo v desítkové soustavě převeďte do soustavy dvojkové.\n",
    "\n",
    "**HINT**: Řešení s výpočtem používá toho, že pro typ int fungují i binární operace. Jako takové ovšem nedokáže převádět necelá čísla. To ovšem nedokáže ale ani příslušná vestavěná funkce (druhé řešení)."
   ]
  },
  {
   "cell_type": "code",
   "execution_count": null,
   "metadata": {
    "tags": [
     "solution"
    ]
   },
   "outputs": [],
   "source": [
    "# TODO: Implement your solution."
   ]
  },
  {
   "cell_type": "code",
   "execution_count": null,
   "metadata": {
    "tags": [
     "solution"
    ]
   },
   "outputs": [],
   "source": [
    "# TODO: Implement your solution."
   ]
  }
 ],
 "metadata": {
  "kernelspec": {
   "display_name": "Python 3 (ipykernel)",
   "language": "python",
   "name": "python3"
  },
  "language_info": {
   "codemirror_mode": {
    "name": "ipython",
    "version": 3
   },
   "file_extension": ".py",
   "mimetype": "text/x-python",
   "name": "python",
   "nbconvert_exporter": "python",
   "pygments_lexer": "ipython3",
   "version": "3.10.12"
  }
 },
 "nbformat": 4,
 "nbformat_minor": 4
}
